{
 "cells": [
  {
   "cell_type": "markdown",
   "metadata": {},
   "source": [
    "# CS5293 Spring 2020 Project 2\n",
    "## By Abilash Ramesh/"
   ]
  },
  {
   "cell_type": "markdown",
   "metadata": {},
   "source": [
    "## Loading packages"
   ]
  },
  {
   "cell_type": "code",
   "execution_count": 123,
   "metadata": {},
   "outputs": [],
   "source": [
    "import scipy\n",
    "from sklearn.feature_extraction.text import TfidfVectorizer\n",
    "from sklearn.cluster import MiniBatchKMeans\n",
    "from sklearn.decomposition import LatentDirichletAllocation as LDA\n",
    "from gensim import corpora, models\n",
    "from sklearn.metrics import silhouette_score\n",
    "import networkx\n",
    "import random\n",
    "import re\n",
    "import pandas as pd\n",
    "import numpy as np\n",
    "import json\n",
    "import glob\n",
    "import nltk\n",
    "from nltk.stem import WordNetLemmatizer\n",
    "from nltk.corpus import wordnet\n",
    "from nltk.stem import PorterStemmer \n",
    "from sklearn.metrics import silhouette_score"
   ]
  },
  {
   "cell_type": "markdown",
   "metadata": {},
   "source": [
    "## Function to read files"
   ]
  },
  {
   "cell_type": "code",
   "execution_count": 124,
   "metadata": {},
   "outputs": [],
   "source": [
    "def readfiles(path, n):\n",
    "    \n",
    "    filenames=glob.glob(path) ## Get filepaths\n",
    "    filen=len(filenames) \n",
    "    number= random.randint(0,filen) ##Random file index\n",
    "    percent = (n)/100\n",
    "    reqf=(filen) * percent\n",
    "    end=number+reqf\n",
    "    print(\"The files from index %d to %d have been taken\" %(number , end))\n",
    "    print(int(reqf))\n",
    "    taken=filenames[int(number):int(end)]\n",
    "    return taken"
   ]
  },
  {
   "cell_type": "markdown",
   "metadata": {},
   "source": [
    "## Function to normalize text "
   ]
  },
  {
   "cell_type": "code",
   "execution_count": 179,
   "metadata": {},
   "outputs": [],
   "source": [
    "def normalize(text):\n",
    "    text = text.lower() ## Lowercase text\n",
    "    sents=(nltk.sent_tokenize(text)) ##Sentence tokenization\n",
    "    words=[]\n",
    "    for sent in sents:\n",
    "        sent.strip()\n",
    "        words.extend(nltk.word_tokenize(sent)) ## Word tokenization\n",
    "    stopword_list = nltk.corpus.stopwords.words('english')\n",
    "    custom_stop_words = [\n",
    "        'doi', 'preprint', 'copyright', 'peer', 'reviewed', 'org', 'https', 'et', 'al', 'author', 'figure', \n",
    "        'rights', 'reserved', 'permission', 'used', 'using', 'biorxiv', 'medrxiv', 'license', 'fig', 'fig.', \n",
    "        'al.', 'Elsevier', 'PMC', 'CZI', 'www' \n",
    "    ]\n",
    "    filtered_tokens = [token for token in words if token not in custom_stop_words]\n",
    "    filtered_tokens1 = [token for token in filtered_tokens if token not in custom_stop_words] ##Stop word removal\n",
    "    txt = ' '.join(filtered_tokens1)\n",
    "    \n",
    "    return txt"
   ]
  },
  {
   "cell_type": "markdown",
   "metadata": {},
   "source": [
    "## Function to create Dataframe using files list"
   ]
  },
  {
   "cell_type": "code",
   "execution_count": 125,
   "metadata": {},
   "outputs": [],
   "source": [
    "def createDB(filepath):\n",
    "    dict_ = {'paper_id': [], 'abstract': [], 'body_text': []} ## Initializing directories\n",
    "    for j in range(len(filepath)):\n",
    "        with open(filepath[j]) as f: ##json text extraction\n",
    "                data=json.load(f)\n",
    "                paper_id = data['paper_id']\n",
    "                abstract = []\n",
    "                body_text = []\n",
    "                for entry in data['abstract']:\n",
    "                    abstract.append(entry['text'])             \n",
    "                for entry in data['body_text']:\n",
    "                    body_text.append(entry['text'])\n",
    "                    \n",
    "                abstract = '\\n'.join(abstract)\n",
    "                body_text = '\\n'.join(body_text)\n",
    "\n",
    "                dict_['paper_id'].append(paper_id)\n",
    "                if len(abstract) == 0: \n",
    "            # if no abstract is provided\n",
    "                    dict_['abstract'].append(\"Not provided.\") ##\n",
    "                else:\n",
    "            # abstract is provided\n",
    "                    dict_['abstract'].append(abstract)\n",
    "               # dict_['abstract'].append(abstract)\n",
    "                dict_['body_text'].append(body_text)\n",
    "                \n",
    "                \n",
    "    df = pd.DataFrame(dict_, columns=['paper_id', 'abstract', 'body_text'])\n",
    "    df['abstract'] = df['abstract'].apply(lambda x: re.sub('[^a-zA-z0-9\\s]','',x)) ## Remove special charecters\n",
    "    df['abstract'] = df['abstract'].apply(lambda x: normalize(x))\n",
    "    return df"
   ]
  },
  {
   "cell_type": "markdown",
   "metadata": {},
   "source": [
    "## Function to perform TextRank summarization"
   ]
  },
  {
   "cell_type": "code",
   "execution_count": 169,
   "metadata": {},
   "outputs": [],
   "source": [
    "def cleansed( Unfinished, txt, n):\n",
    "    sent_tokens=nltk.sent_tokenize(txt)\n",
    "    unfin = nltk.sent_tokenize(Unfinished)\n",
    "    vectorizer = TfidfVectorizer(stop_words='english', max_features=2**12, smooth_idf=True, use_idf=True, ngram_range=(2,4))\n",
    "    docu=vectorizer.fit_transform(sent_tokens)\n",
    "    sim_mat= docu*docu.T\n",
    "    sim_graph= networkx.from_scipy_sparse_matrix(sim_mat)\n",
    "    scores = networkx.pagerank(sim_graph)\n",
    "    ranked_sentences = sorted(((score, index)\n",
    "                            for index, score in scores.items()), reverse=True)\n",
    "    top_sentence_indices = [ranked_sentences[index][1] for index in range(0,n)]\n",
    "    top_sentence_indices.sort()\n",
    "    top_sentences = [unfin[index] for index in top_sentence_indices]\n",
    "    summary =''.join(top_sentences)\n",
    "    return summary"
   ]
  },
  {
   "cell_type": "markdown",
   "metadata": {},
   "source": [
    "## Function to write summary output"
   ]
  },
  {
   "cell_type": "code",
   "execution_count": 192,
   "metadata": {},
   "outputs": [],
   "source": [
    "def outputfiles(dataframe):\n",
    "    for i in range(len(dataframe)):\n",
    "        j=i+1\n",
    "        filename = ('output_%d.md'%(j))\n",
    "        with open(filename, 'w') as f:\n",
    "            f.write('This is the output for cluster #%d\\n\\n'%(j))\n",
    "            for text in dataframe['summary'][i]:\n",
    "                f.write(text)"
   ]
  },
  {
   "cell_type": "markdown",
   "metadata": {},
   "source": [
    "### Data collection"
   ]
  },
  {
   "cell_type": "code",
   "execution_count": 200,
   "metadata": {},
   "outputs": [
    {
     "name": "stdout",
     "output_type": "stream",
     "text": [
      "The files from index 19 to 80 have been taken\n",
      "61\n"
     ]
    },
    {
     "data": {
      "text/html": [
       "<div>\n",
       "<style scoped>\n",
       "    .dataframe tbody tr th:only-of-type {\n",
       "        vertical-align: middle;\n",
       "    }\n",
       "\n",
       "    .dataframe tbody tr th {\n",
       "        vertical-align: top;\n",
       "    }\n",
       "\n",
       "    .dataframe thead th {\n",
       "        text-align: right;\n",
       "    }\n",
       "</style>\n",
       "<table border=\"1\" class=\"dataframe\">\n",
       "  <thead>\n",
       "    <tr style=\"text-align: right;\">\n",
       "      <th></th>\n",
       "      <th>paper_id</th>\n",
       "      <th>abstract</th>\n",
       "      <th>body_text</th>\n",
       "    </tr>\n",
       "  </thead>\n",
       "  <tbody>\n",
       "    <tr>\n",
       "      <th>0</th>\n",
       "      <td>0e7881e97024fe722e03b821d76391d8361a8008</td>\n",
       "      <td>Acute respiratory tract infections (ARI) const...</td>\n",
       "      <td>Acute respiratory tract infections (ARI), incl...</td>\n",
       "    </tr>\n",
       "    <tr>\n",
       "      <th>1</th>\n",
       "      <td>0a4a2763f35864555a20b296c1daf1614f09e28f</td>\n",
       "      <td>Candida is the most common fungal pathogen of ...</td>\n",
       "      <td>Candida is the most common fungal pathogen of ...</td>\n",
       "    </tr>\n",
       "    <tr>\n",
       "      <th>2</th>\n",
       "      <td>0fbc383f838f9db0f9146ae8889373a9375ec056</td>\n",
       "      <td>Helicobacter pylori causes cellular vacuolatio...</td>\n",
       "      <td>Helicobacter pylori is a Gram-negative, spiral...</td>\n",
       "    </tr>\n",
       "    <tr>\n",
       "      <th>3</th>\n",
       "      <td>0d80c3f53b8900bb8d958492553dc052c2b3c628</td>\n",
       "      <td>Background: Increasing evidence exists that he...</td>\n",
       "      <td>Human activities have led to global dispersion...</td>\n",
       "    </tr>\n",
       "    <tr>\n",
       "      <th>4</th>\n",
       "      <td>00cf719db65d07c0c7bdea9defaea448fc5f5786</td>\n",
       "      <td>Plasmacytoid dendritic cell (pDC)-mediated pro...</td>\n",
       "      <td>Protection against life-threatening infections...</td>\n",
       "    </tr>\n",
       "  </tbody>\n",
       "</table>\n",
       "</div>"
      ],
      "text/plain": [
       "                                   paper_id  \\\n",
       "0  0e7881e97024fe722e03b821d76391d8361a8008   \n",
       "1  0a4a2763f35864555a20b296c1daf1614f09e28f   \n",
       "2  0fbc383f838f9db0f9146ae8889373a9375ec056   \n",
       "3  0d80c3f53b8900bb8d958492553dc052c2b3c628   \n",
       "4  00cf719db65d07c0c7bdea9defaea448fc5f5786   \n",
       "\n",
       "                                            abstract  \\\n",
       "0  Acute respiratory tract infections (ARI) const...   \n",
       "1  Candida is the most common fungal pathogen of ...   \n",
       "2  Helicobacter pylori causes cellular vacuolatio...   \n",
       "3  Background: Increasing evidence exists that he...   \n",
       "4  Plasmacytoid dendritic cell (pDC)-mediated pro...   \n",
       "\n",
       "                                           body_text  \n",
       "0  Acute respiratory tract infections (ARI), incl...  \n",
       "1  Candida is the most common fungal pathogen of ...  \n",
       "2  Helicobacter pylori is a Gram-negative, spiral...  \n",
       "3  Human activities have led to global dispersion...  \n",
       "4  Protection against life-threatening infections...  "
      ]
     },
     "execution_count": 200,
     "metadata": {},
     "output_type": "execute_result"
    }
   ],
   "source": [
    "filenames = readfiles('json files/*.json', 20)\n",
    "df = createDB(filenames)\n",
    "df.head()"
   ]
  },
  {
   "cell_type": "markdown",
   "metadata": {},
   "source": [
    "### Text vectorization"
   ]
  },
  {
   "cell_type": "code",
   "execution_count": 194,
   "metadata": {},
   "outputs": [],
   "source": [
    "vectorizer=TfidfVectorizer(stop_words='english', max_features=2**12, smooth_idf=True, use_idf=True, ngram_range=(2,4))\n",
    "docu=vectorizer.fit_transform(df['abstract'].values)\n"
   ]
  },
  {
   "cell_type": "markdown",
   "metadata": {},
   "source": [
    "### Clustering using KMeans"
   ]
  },
  {
   "cell_type": "code",
   "execution_count": 201,
   "metadata": {},
   "outputs": [
    {
     "name": "stdout",
     "output_type": "stream",
     "text": [
      "5.522680508593631\n"
     ]
    },
    {
     "data": {
      "text/plain": [
       "array([2, 3, 2, 2, 2, 2, 2, 2, 2, 2, 2, 2, 2, 2, 2, 2, 2, 4, 2, 2, 2, 2,\n",
       "       2, 2, 2, 2, 2, 2, 2, 2, 2, 2, 2, 2, 2, 0, 2, 2, 2, 2, 2, 2, 2, 2,\n",
       "       2, 2, 2, 2, 2, 2, 2, 2, 2, 2, 1, 2, 2, 2, 2, 2, 2], dtype=int32)"
      ]
     },
     "execution_count": 201,
     "metadata": {},
     "output_type": "execute_result"
    }
   ],
   "source": [
    "cluster=np.sqrt(int(len(filenames))/2)\n",
    "print(cluster)\n",
    "kmeans = MiniBatchKMeans(n_clusters=int(cluster),max_iter=5000, init='random')\n",
    "preds = kmeans.fit_predict(docu)\n",
    "preds"
   ]
  },
  {
   "cell_type": "markdown",
   "metadata": {},
   "source": [
    "### Dataframe with clustered text"
   ]
  },
  {
   "cell_type": "code",
   "execution_count": 204,
   "metadata": {},
   "outputs": [
    {
     "data": {
      "text/html": [
       "<div>\n",
       "<style scoped>\n",
       "    .dataframe tbody tr th:only-of-type {\n",
       "        vertical-align: middle;\n",
       "    }\n",
       "\n",
       "    .dataframe tbody tr th {\n",
       "        vertical-align: top;\n",
       "    }\n",
       "\n",
       "    .dataframe thead th {\n",
       "        text-align: right;\n",
       "    }\n",
       "</style>\n",
       "<table border=\"1\" class=\"dataframe\">\n",
       "  <thead>\n",
       "    <tr style=\"text-align: right;\">\n",
       "      <th></th>\n",
       "      <th>cluster</th>\n",
       "      <th>text</th>\n",
       "    </tr>\n",
       "  </thead>\n",
       "  <tbody>\n",
       "    <tr>\n",
       "      <th>0</th>\n",
       "      <td>0</td>\n",
       "      <td>According to the World Health Organization (WH...</td>\n",
       "    </tr>\n",
       "    <tr>\n",
       "      <th>1</th>\n",
       "      <td>1</td>\n",
       "      <td>Habitat degradation, loss and fragmentation ar...</td>\n",
       "    </tr>\n",
       "    <tr>\n",
       "      <th>2</th>\n",
       "      <td>2</td>\n",
       "      <td>Acute respiratory tract infections (ARI), incl...</td>\n",
       "    </tr>\n",
       "    <tr>\n",
       "      <th>3</th>\n",
       "      <td>3</td>\n",
       "      <td>Candida is the most common fungal pathogen of ...</td>\n",
       "    </tr>\n",
       "    <tr>\n",
       "      <th>4</th>\n",
       "      <td>4</td>\n",
       "      <td>Avian influenza viruses (AIVs), caused by infl...</td>\n",
       "    </tr>\n",
       "  </tbody>\n",
       "</table>\n",
       "</div>"
      ],
      "text/plain": [
       "   cluster                                               text\n",
       "0        0  According to the World Health Organization (WH...\n",
       "1        1  Habitat degradation, loss and fragmentation ar...\n",
       "2        2  Acute respiratory tract infections (ARI), incl...\n",
       "3        3  Candida is the most common fungal pathogen of ...\n",
       "4        4  Avian influenza viruses (AIVs), caused by infl..."
      ]
     },
     "execution_count": 204,
     "metadata": {},
     "output_type": "execute_result"
    }
   ],
   "source": [
    "df['cluster']=preds\n",
    "df1 = df.groupby('cluster')['body_text'].apply(list).reset_index(name='text')\n",
    "df1['text'] = df1['text'].apply(lambda x:  ' '.join(map(str, x)) )\n",
    "df1.head()"
   ]
  },
  {
   "cell_type": "markdown",
   "metadata": {},
   "source": [
    "### Normalization of text"
   ]
  },
  {
   "cell_type": "code",
   "execution_count": 205,
   "metadata": {},
   "outputs": [
    {
     "name": "stderr",
     "output_type": "stream",
     "text": [
      "/opt/conda/lib/python3.7/site-packages/ipykernel_launcher.py:4: SettingWithCopyWarning: \n",
      "A value is trying to be set on a copy of a slice from a DataFrame\n",
      "\n",
      "See the caveats in the documentation: https://pandas.pydata.org/pandas-docs/stable/user_guide/indexing.html#returning-a-view-versus-a-copy\n",
      "  after removing the cwd from sys.path.\n",
      "/opt/conda/lib/python3.7/site-packages/pandas/core/indexing.py:671: SettingWithCopyWarning: \n",
      "A value is trying to be set on a copy of a slice from a DataFrame\n",
      "\n",
      "See the caveats in the documentation: https://pandas.pydata.org/pandas-docs/stable/user_guide/indexing.html#returning-a-view-versus-a-copy\n",
      "  self._setitem_with_indexer(indexer, value)\n"
     ]
    }
   ],
   "source": [
    "df1['Normalized_text'] = 0\n",
    "\n",
    "for j in range(len(df1)):\n",
    "    df1['Normalized_text'][j]=normalize(df1['text'][j])\n",
    "    \n",
    "df1['summary'] = 0\n"
   ]
  },
  {
   "cell_type": "markdown",
   "metadata": {},
   "source": [
    "### Summary creation"
   ]
  },
  {
   "cell_type": "code",
   "execution_count": 206,
   "metadata": {},
   "outputs": [
    {
     "name": "stdout",
     "output_type": "stream",
     "text": [
      "0\n",
      "1\n"
     ]
    },
    {
     "name": "stderr",
     "output_type": "stream",
     "text": [
      "/opt/conda/lib/python3.7/site-packages/ipykernel_launcher.py:3: SettingWithCopyWarning: \n",
      "A value is trying to be set on a copy of a slice from a DataFrame\n",
      "\n",
      "See the caveats in the documentation: https://pandas.pydata.org/pandas-docs/stable/user_guide/indexing.html#returning-a-view-versus-a-copy\n",
      "  This is separate from the ipykernel package so we can avoid doing imports until\n",
      "/opt/conda/lib/python3.7/site-packages/pandas/core/indexing.py:671: SettingWithCopyWarning: \n",
      "A value is trying to be set on a copy of a slice from a DataFrame\n",
      "\n",
      "See the caveats in the documentation: https://pandas.pydata.org/pandas-docs/stable/user_guide/indexing.html#returning-a-view-versus-a-copy\n",
      "  self._setitem_with_indexer(indexer, value)\n",
      "/opt/conda/lib/python3.7/site-packages/ipykernel_launcher.py:3: SettingWithCopyWarning: \n",
      "A value is trying to be set on a copy of a slice from a DataFrame\n",
      "\n",
      "See the caveats in the documentation: https://pandas.pydata.org/pandas-docs/stable/user_guide/indexing.html#returning-a-view-versus-a-copy\n",
      "  This is separate from the ipykernel package so we can avoid doing imports until\n"
     ]
    },
    {
     "name": "stdout",
     "output_type": "stream",
     "text": [
      "2\n"
     ]
    },
    {
     "name": "stderr",
     "output_type": "stream",
     "text": [
      "/opt/conda/lib/python3.7/site-packages/ipykernel_launcher.py:3: SettingWithCopyWarning: \n",
      "A value is trying to be set on a copy of a slice from a DataFrame\n",
      "\n",
      "See the caveats in the documentation: https://pandas.pydata.org/pandas-docs/stable/user_guide/indexing.html#returning-a-view-versus-a-copy\n",
      "  This is separate from the ipykernel package so we can avoid doing imports until\n"
     ]
    },
    {
     "name": "stdout",
     "output_type": "stream",
     "text": [
      "3\n"
     ]
    },
    {
     "name": "stderr",
     "output_type": "stream",
     "text": [
      "/opt/conda/lib/python3.7/site-packages/ipykernel_launcher.py:3: SettingWithCopyWarning: \n",
      "A value is trying to be set on a copy of a slice from a DataFrame\n",
      "\n",
      "See the caveats in the documentation: https://pandas.pydata.org/pandas-docs/stable/user_guide/indexing.html#returning-a-view-versus-a-copy\n",
      "  This is separate from the ipykernel package so we can avoid doing imports until\n"
     ]
    },
    {
     "name": "stdout",
     "output_type": "stream",
     "text": [
      "4\n"
     ]
    },
    {
     "name": "stderr",
     "output_type": "stream",
     "text": [
      "/opt/conda/lib/python3.7/site-packages/ipykernel_launcher.py:3: SettingWithCopyWarning: \n",
      "A value is trying to be set on a copy of a slice from a DataFrame\n",
      "\n",
      "See the caveats in the documentation: https://pandas.pydata.org/pandas-docs/stable/user_guide/indexing.html#returning-a-view-versus-a-copy\n",
      "  This is separate from the ipykernel package so we can avoid doing imports until\n"
     ]
    }
   ],
   "source": [
    "for k in range(len(df1)):\n",
    "    print(k)\n",
    "    df1['summary'][k]= cleansed(df1['text'][k], df1['Normalized_text'][k], 15)"
   ]
  },
  {
   "cell_type": "markdown",
   "metadata": {},
   "source": [
    "### File output"
   ]
  },
  {
   "cell_type": "code",
   "execution_count": 207,
   "metadata": {},
   "outputs": [
    {
     "data": {
      "text/html": [
       "<div>\n",
       "<style scoped>\n",
       "    .dataframe tbody tr th:only-of-type {\n",
       "        vertical-align: middle;\n",
       "    }\n",
       "\n",
       "    .dataframe tbody tr th {\n",
       "        vertical-align: top;\n",
       "    }\n",
       "\n",
       "    .dataframe thead th {\n",
       "        text-align: right;\n",
       "    }\n",
       "</style>\n",
       "<table border=\"1\" class=\"dataframe\">\n",
       "  <thead>\n",
       "    <tr style=\"text-align: right;\">\n",
       "      <th></th>\n",
       "      <th>cluster</th>\n",
       "      <th>text</th>\n",
       "      <th>Normalized_text</th>\n",
       "      <th>summary</th>\n",
       "    </tr>\n",
       "  </thead>\n",
       "  <tbody>\n",
       "    <tr>\n",
       "      <th>0</th>\n",
       "      <td>0</td>\n",
       "      <td>According to the World Health Organization (WH...</td>\n",
       "      <td>according to the world health organization ( w...</td>\n",
       "      <td>In the present case of 2019-nCoV, virus isolat...</td>\n",
       "    </tr>\n",
       "    <tr>\n",
       "      <th>1</th>\n",
       "      <td>1</td>\n",
       "      <td>Habitat degradation, loss and fragmentation ar...</td>\n",
       "      <td>habitat degradation , loss and fragmentation a...</td>\n",
       "      <td>Therefore, we predicted that foliageroosting b...</td>\n",
       "    </tr>\n",
       "    <tr>\n",
       "      <th>2</th>\n",
       "      <td>2</td>\n",
       "      <td>Acute respiratory tract infections (ARI), incl...</td>\n",
       "      <td>acute respiratory tract infections ( ari ) , i...</td>\n",
       "      <td>The x axis is the success rate of case isolati...</td>\n",
       "    </tr>\n",
       "    <tr>\n",
       "      <th>3</th>\n",
       "      <td>3</td>\n",
       "      <td>Candida is the most common fungal pathogen of ...</td>\n",
       "      <td>candida is the most common fungal pathogen of ...</td>\n",
       "      <td>After incubation for 24 h, cell morphologies w...</td>\n",
       "    </tr>\n",
       "    <tr>\n",
       "      <th>4</th>\n",
       "      <td>4</td>\n",
       "      <td>Avian influenza viruses (AIVs), caused by infl...</td>\n",
       "      <td>avian influenza viruses ( aivs ) , caused by i...</td>\n",
       "      <td>It was reported that the interference between ...</td>\n",
       "    </tr>\n",
       "  </tbody>\n",
       "</table>\n",
       "</div>"
      ],
      "text/plain": [
       "   cluster                                               text  \\\n",
       "0        0  According to the World Health Organization (WH...   \n",
       "1        1  Habitat degradation, loss and fragmentation ar...   \n",
       "2        2  Acute respiratory tract infections (ARI), incl...   \n",
       "3        3  Candida is the most common fungal pathogen of ...   \n",
       "4        4  Avian influenza viruses (AIVs), caused by infl...   \n",
       "\n",
       "                                     Normalized_text  \\\n",
       "0  according to the world health organization ( w...   \n",
       "1  habitat degradation , loss and fragmentation a...   \n",
       "2  acute respiratory tract infections ( ari ) , i...   \n",
       "3  candida is the most common fungal pathogen of ...   \n",
       "4  avian influenza viruses ( aivs ) , caused by i...   \n",
       "\n",
       "                                             summary  \n",
       "0  In the present case of 2019-nCoV, virus isolat...  \n",
       "1  Therefore, we predicted that foliageroosting b...  \n",
       "2  The x axis is the success rate of case isolati...  \n",
       "3  After incubation for 24 h, cell morphologies w...  \n",
       "4  It was reported that the interference between ...  "
      ]
     },
     "execution_count": 207,
     "metadata": {},
     "output_type": "execute_result"
    }
   ],
   "source": [
    "df1.head()"
   ]
  },
  {
   "cell_type": "code",
   "execution_count": 199,
   "metadata": {},
   "outputs": [],
   "source": [
    "outputfiles(df1)"
   ]
  },
  {
   "cell_type": "code",
   "execution_count": null,
   "metadata": {},
   "outputs": [],
   "source": []
  }
 ],
 "metadata": {
  "environment": {
   "name": "common-cpu.m46",
   "type": "gcloud",
   "uri": "gcr.io/deeplearning-platform-release/base-cpu:m46"
  },
  "kernelspec": {
   "display_name": "Python 3",
   "language": "python",
   "name": "python3"
  },
  "language_info": {
   "codemirror_mode": {
    "name": "ipython",
    "version": 3
   },
   "file_extension": ".py",
   "mimetype": "text/x-python",
   "name": "python",
   "nbconvert_exporter": "python",
   "pygments_lexer": "ipython3",
   "version": "3.6.9"
  }
 },
 "nbformat": 4,
 "nbformat_minor": 4
}
